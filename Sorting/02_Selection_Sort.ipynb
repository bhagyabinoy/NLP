{
 "cells": [
  {
   "cell_type": "markdown",
   "metadata": {},
   "source": [
    "## Selection Sort"
   ]
  },
  {
   "cell_type": "markdown",
   "metadata": {},
   "source": [
    "**How It Works**: \n",
    "- Selection Sort divides the input list into two parts: a sorted part and an unsorted part. It repeatedly selects the smallest (or largest) element from the unsorted part and moves it to the end of the sorted part."
   ]
  },
  {
   "cell_type": "code",
   "execution_count": 1,
   "metadata": {
    "collapsed": true
   },
   "outputs": [
    {
     "name": "stdout",
     "output_type": "stream",
     "text": [
      "[7, 19, 13, 11, 9, 16, 8, 10, 6, 14, 18, 3, 17, 15, 5, 4, 1, 2, 12]\n"
     ]
    }
   ],
   "source": [
    "import random\n",
    "arr = [i for i in range(1, 20)]\n",
    "random.shuffle(arr)\n",
    "print(arr)"
   ]
  },
  {
   "cell_type": "code",
   "execution_count": 2,
   "metadata": {},
   "outputs": [],
   "source": [
    "def selection_sort(arr):\n",
    "    n = len(arr)\n",
    "    for i in range(n):\n",
    "        min_idx = i\n",
    "        for j in range(i+1, n):\n",
    "            if arr[j] < arr[min_idx]:\n",
    "                min_idx = j\n",
    "        arr[i], arr[min_idx] = arr[min_idx], arr[i]\n",
    "    return arr"
   ]
  },
  {
   "cell_type": "code",
   "execution_count": 3,
   "metadata": {},
   "outputs": [
    {
     "data": {
      "text/plain": [
       "[1, 2, 3, 4, 5, 6, 7, 8, 9, 10, 11, 12, 13, 14, 15, 16, 17, 18, 19]"
      ]
     },
     "execution_count": 3,
     "metadata": {},
     "output_type": "execute_result"
    }
   ],
   "source": [
    "selection_sort(arr)"
   ]
  },
  {
   "cell_type": "markdown",
   "metadata": {},
   "source": [
    "**Time Complexity**:\n",
    "- Best, Average, and Worst Case: O(n²)"
   ]
  },
  {
   "cell_type": "markdown",
   "metadata": {},
   "source": [
    "**Applications of Selection Sort**\n",
    "\n",
    "1. **Educational Use**: Often used in teaching basic sorting concepts and algorithm analysis due to its simplicity.\n",
    "\n",
    "2. **Small Datasets**: Effective for sorting small lists (typically fewer than 10 elements) where performance is not critical.\n",
    "\n",
    "3. **Memory Constraints**: Requires minimal additional memory since it sorts in place, making it suitable for environments with limited memory.\n",
    "\n",
    "4. **Simple Implementation**: Useful in scenarios where ease of implementation is prioritized over efficiency, such as quick scripts.\n",
    "\n",
    "5. **When Stability is Not Required**: While not a stable sort, it can be used when the order of equal elements is not a concern.\n",
    "\n",
    "Selection Sort is not efficient for large datasets, but it serves well in niche applications, particularly in educational contexts and for small, memory-constrained environments."
   ]
  }
 ],
 "metadata": {
  "kernelspec": {
   "display_name": "Python 3",
   "language": "python",
   "name": "python3"
  },
  "language_info": {
   "codemirror_mode": {
    "name": "ipython",
    "version": 3
   },
   "file_extension": ".py",
   "mimetype": "text/x-python",
   "name": "python",
   "nbconvert_exporter": "python",
   "pygments_lexer": "ipython3",
   "version": "3.8.10"
  }
 },
 "nbformat": 4,
 "nbformat_minor": 2
}
