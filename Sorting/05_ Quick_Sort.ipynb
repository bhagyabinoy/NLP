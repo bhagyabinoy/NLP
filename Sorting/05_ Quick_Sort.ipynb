{
 "cells": [
  {
   "cell_type": "markdown",
   "metadata": {},
   "source": [
    "## Quick Sort"
   ]
  },
  {
   "cell_type": "markdown",
   "metadata": {},
   "source": [
    "**How It Works**:\n",
    "- Quick Sort is also a divide-and-conquer algorithm. It selects a \"pivot\" element from the array, partitions the other elements into two sub-arrays according to whether they are less than or greater than the pivot, and recursively sorts the sub-arrays."
   ]
  },
  {
   "cell_type": "code",
   "execution_count": 1,
   "metadata": {},
   "outputs": [
    {
     "name": "stdout",
     "output_type": "stream",
     "text": [
      "[6, 12, 1, 9, 10, 18, 13, 7, 17, 5, 4, 14, 16, 15, 3, 8, 19, 2, 11]\n"
     ]
    }
   ],
   "source": [
    "import random\n",
    "arr = [i for i in range(1, 20)]\n",
    "random.shuffle(arr)\n",
    "print(arr)"
   ]
  },
  {
   "cell_type": "code",
   "execution_count": 2,
   "metadata": {},
   "outputs": [],
   "source": [
    "def quick_sort(arr):\n",
    "    if len(arr) <= 1:\n",
    "        return arr\n",
    "    pivot = arr[len(arr) // 2]\n",
    "    left = [x for x in arr if x < pivot]\n",
    "    middle = [x for x in arr if x == pivot]\n",
    "    right = [x for x in arr if x > pivot]\n",
    "    return quick_sort(left) + middle + quick_sort(right)"
   ]
  },
  {
   "cell_type": "markdown",
   "metadata": {},
   "source": [
    "**Time Complexity**:\n",
    "- Best and Average Case: O(n log n)\n",
    "- Worst Case: O(n²) "
   ]
  },
  {
   "cell_type": "markdown",
   "metadata": {},
   "source": [
    "### Applications of Quick Sort\n",
    "\n",
    "1. **General Purpose Sorting**: Quick Sort is widely used for sorting large datasets due to its average-case time complexity of O(n log n).\n",
    "\n",
    "2. **In-memory Sorting**: Efficient for sorting data that fits into memory, making it a common choice for applications that require quick data access.\n",
    "\n",
    "3. **When Space Efficiency is Important**: It’s an in-place sorting algorithm, which means it requires minimal additional memory compared to others like Merge Sort.\n",
    "\n",
    "4. **Adaptive Performance**: Performs well with small datasets and can be optimized with different pivot selection strategies.\n",
    "\n",
    "5. **Practical Implementations**: Frequently used in standard libraries and frameworks (like Python’s Timsort) due to its speed and efficiency.\n",
    "\n",
    "6. **Parallel Processing**: Suitable for parallel processing and can be easily adapted for multi-threaded implementations.\n",
    "\n",
    "Quick Sort is favored for its performance in diverse applications, especially where speed and space efficiency are crucial."
   ]
  }
 ],
 "metadata": {
  "kernelspec": {
   "display_name": "Python 3",
   "language": "python",
   "name": "python3"
  },
  "language_info": {
   "codemirror_mode": {
    "name": "ipython",
    "version": 3
   },
   "file_extension": ".py",
   "mimetype": "text/x-python",
   "name": "python",
   "nbconvert_exporter": "python",
   "pygments_lexer": "ipython3",
   "version": "3.8.10"
  }
 },
 "nbformat": 4,
 "nbformat_minor": 2
}
