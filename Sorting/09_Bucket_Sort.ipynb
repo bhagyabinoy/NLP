{
 "cells": [
  {
   "cell_type": "markdown",
   "metadata": {},
   "source": [
    "### Bucket Sort"
   ]
  },
  {
   "cell_type": "markdown",
   "metadata": {},
   "source": [
    "**How It Works**:\n",
    "- Bucket Sort distributes the elements of the array into a number of buckets. Each bucket is then sorted individually, often using another sorting algorithm. Finally, the sorted buckets are concatenated."
   ]
  },
  {
   "cell_type": "code",
   "execution_count": 2,
   "metadata": {},
   "outputs": [
    {
     "name": "stdout",
     "output_type": "stream",
     "text": [
      "[8, 19, 4, 11, 18, 15, 12, 1, 9, 5, 10, 17, 7, 6, 14, 16, 2, 3, 13]\n"
     ]
    }
   ],
   "source": [
    "import random\n",
    "arr = [i for i in range(1, 20)]\n",
    "random.shuffle(arr)\n",
    "print(arr)"
   ]
  },
  {
   "cell_type": "code",
   "execution_count": 3,
   "metadata": {},
   "outputs": [],
   "source": [
    "def bucket_sort(arr):\n",
    "    if len(arr) == 0:\n",
    "        return arr\n",
    "\n",
    "    max_value = max(arr)\n",
    "    size = max_value / len(arr)\n",
    "\n",
    "    buckets = [[] for _ in range(len(arr))]\n",
    "\n",
    "    for num in arr:\n",
    "        index = int(num // size)\n",
    "        if index != len(arr):\n",
    "            buckets[index].append(num)\n",
    "        else:\n",
    "            buckets[len(arr) - 1].append(num)\n",
    "\n",
    "    sorted_array = []\n",
    "    for bucket in buckets:\n",
    "        sorted_array.extend(sorted(bucket))\n",
    "\n",
    "    return sorted_array"
   ]
  },
  {
   "cell_type": "code",
   "execution_count": 4,
   "metadata": {},
   "outputs": [
    {
     "data": {
      "text/plain": [
       "[1, 2, 3, 4, 5, 6, 7, 8, 9, 10, 11, 12, 13, 14, 15, 16, 17, 18, 19]"
      ]
     },
     "execution_count": 4,
     "metadata": {},
     "output_type": "execute_result"
    }
   ],
   "source": [
    "bucket_sort(arr)"
   ]
  },
  {
   "cell_type": "markdown",
   "metadata": {},
   "source": [
    "**Time Complexity**:\n",
    "- Best and Average Case: O(n + k), where \\( k \\) is the number of buckets.\n",
    "- Worst Case: O(n²) (when all elements go into one bucket)"
   ]
  }
 ],
 "metadata": {
  "kernelspec": {
   "display_name": "Python 3",
   "language": "python",
   "name": "python3"
  },
  "language_info": {
   "codemirror_mode": {
    "name": "ipython",
    "version": 3
   },
   "file_extension": ".py",
   "mimetype": "text/x-python",
   "name": "python",
   "nbconvert_exporter": "python",
   "pygments_lexer": "ipython3",
   "version": "3.8.10"
  }
 },
 "nbformat": 4,
 "nbformat_minor": 2
}
