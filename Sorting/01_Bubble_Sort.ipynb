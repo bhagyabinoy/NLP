{
 "cells": [
  {
   "cell_type": "markdown",
   "metadata": {},
   "source": [
    "## Bubble Sort"
   ]
  },
  {
   "cell_type": "markdown",
   "metadata": {},
   "source": [
    "**How It Works**: \n",
    "- Bubble Sort repeatedly steps through the list, compares adjacent elements, and swaps them if they are in the wrong order. This process is repeated until no swaps are needed, indicating that the list is sorted."
   ]
  },
  {
   "cell_type": "code",
   "execution_count": 8,
   "metadata": {},
   "outputs": [
    {
     "name": "stdout",
     "output_type": "stream",
     "text": [
      "[10, 5, 7, 17, 4, 12, 14, 6, 2, 9, 3, 19, 11, 18, 16, 13, 1, 8, 15]\n"
     ]
    }
   ],
   "source": [
    "import random\n",
    "arr = [i for i in range(1, 20)]\n",
    "random.shuffle(arr)\n",
    "print(arr)"
   ]
  },
  {
   "cell_type": "code",
   "execution_count": 6,
   "metadata": {},
   "outputs": [],
   "source": [
    "def bubble_sort(arr):\n",
    "    n = len(arr)\n",
    "    for i in range(n):\n",
    "        swapped = False\n",
    "        for j in range(0, n-i-1):\n",
    "            if arr[j] > arr[j+1]:\n",
    "                arr[j], arr[j+1] = arr[j+1], arr[j]\n",
    "                swapped = True\n",
    "        if not swapped:\n",
    "            break  \n",
    "    return arr"
   ]
  },
  {
   "cell_type": "code",
   "execution_count": 11,
   "metadata": {},
   "outputs": [
    {
     "data": {
      "text/plain": [
       "[1, 2, 3, 4, 5, 6, 7, 8, 9, 10, 11, 12, 13, 14, 15, 16, 17, 18, 19]"
      ]
     },
     "execution_count": 11,
     "metadata": {},
     "output_type": "execute_result"
    }
   ],
   "source": [
    "bubble_sort(arr)"
   ]
  },
  {
   "cell_type": "markdown",
   "metadata": {},
   "source": [
    "**Time Complexity**:\n",
    "\n",
    "- Best Case: O(n) (when the list is already sorted)\n",
    "- Average and Worst Case: O(n²)"
   ]
  },
  {
   "cell_type": "markdown",
   "metadata": {},
   "source": [
    "**Applications of Bubble Sort**\n",
    "\n",
    "1. **Educational Tool**: Commonly used to teach sorting concepts and algorithm analysis due to its simplicity.\n",
    "\n",
    "2. **Small Datasets**: Effective for sorting very small lists (fewer than 10 elements) where efficiency is less critical.\n",
    "\n",
    "3. **Nearly Sorted Data**: Performs well on nearly sorted lists, as it can stop early if no swaps are made.\n",
    "\n",
    "4. **Real-Time Systems**: Suitable for applications requiring predictable performance, as it has a consistent O(n²) time complexity.\n",
    "\n",
    "5. **Simplicity in Implementation**: Useful for quick scripts where code clarity is prioritized over performance.\n",
    "\n",
    "6. **Stable Sort**: Maintains the relative order of equal elements, making it useful in situations where stability is required.\n",
    "\n",
    "While not efficient for large datasets, Bubble Sort has niche applications primarily in education and specific small-scale scenarios."
   ]
  }
 ],
 "metadata": {
  "kernelspec": {
   "display_name": "Python 3",
   "language": "python",
   "name": "python3"
  },
  "language_info": {
   "codemirror_mode": {
    "name": "ipython",
    "version": 3
   },
   "file_extension": ".py",
   "mimetype": "text/x-python",
   "name": "python",
   "nbconvert_exporter": "python",
   "pygments_lexer": "ipython3",
   "version": "3.8.10"
  }
 },
 "nbformat": 4,
 "nbformat_minor": 2
}
