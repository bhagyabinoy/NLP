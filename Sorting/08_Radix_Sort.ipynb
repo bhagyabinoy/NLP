{
 "cells": [
  {
   "cell_type": "markdown",
   "metadata": {},
   "source": [
    "### Radix Sort"
   ]
  },
  {
   "cell_type": "markdown",
   "metadata": {},
   "source": [
    "**How It Works**:\n",
    "- Radix Sort processes each digit of the numbers from least significant to most significant using Counting Sort as a subroutine. It's useful for sorting integers or fixed-length strings.\n"
   ]
  },
  {
   "cell_type": "code",
   "execution_count": 1,
   "metadata": {},
   "outputs": [
    {
     "name": "stdout",
     "output_type": "stream",
     "text": [
      "[1, 3, 11, 5, 16, 19, 10, 14, 7, 8, 13, 4, 18, 2, 15, 6, 12, 17, 9]\n"
     ]
    }
   ],
   "source": [
    "import random\n",
    "arr = [i for i in range(1, 20)]\n",
    "random.shuffle(arr)\n",
    "print(arr)"
   ]
  },
  {
   "cell_type": "code",
   "execution_count": 2,
   "metadata": {},
   "outputs": [],
   "source": [
    "def counting_sort_for_radix(arr, exp):\n",
    "    output = [0] * len(arr)\n",
    "    count = [0] * 10  # For decimal numbers\n",
    "\n",
    "    for i in arr:\n",
    "        index = i // exp\n",
    "        count[index % 10] += 1\n",
    "\n",
    "    for i in range(1, 10):\n",
    "        count[i] += count[i - 1]\n",
    "\n",
    "    for i in range(len(arr) - 1, -1, -1):\n",
    "        output[count[(arr[i] // exp) % 10] - 1] = arr[i]\n",
    "        count[(arr[i] // exp) % 10] -= 1\n",
    "\n",
    "    return output\n",
    "\n",
    "def radix_sort(arr):\n",
    "    max_val = max(arr)\n",
    "    exp = 1\n",
    "    while max_val // exp > 0:\n",
    "        arr = counting_sort_for_radix(arr, exp)\n",
    "        exp *= 10\n",
    "    return arr"
   ]
  },
  {
   "cell_type": "markdown",
   "metadata": {},
   "source": [
    "**Time Complexity**:\n",
    "- Best, Average, and Worst Case: O(nk), where \\( k \\) is the number of digits in the largest number."
   ]
  }
 ],
 "metadata": {
  "kernelspec": {
   "display_name": "Python 3",
   "language": "python",
   "name": "python3"
  },
  "language_info": {
   "codemirror_mode": {
    "name": "ipython",
    "version": 3
   },
   "file_extension": ".py",
   "mimetype": "text/x-python",
   "name": "python",
   "nbconvert_exporter": "python",
   "pygments_lexer": "ipython3",
   "version": "3.8.10"
  }
 },
 "nbformat": 4,
 "nbformat_minor": 2
}
