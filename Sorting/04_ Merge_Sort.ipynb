{
 "cells": [
  {
   "cell_type": "markdown",
   "metadata": {},
   "source": [
    "## Merge Sort"
   ]
  },
  {
   "cell_type": "markdown",
   "metadata": {},
   "source": [
    "**How It Works**: \n",
    "- Merge Sort is a divide-and-conquer algorithm that divides the array into halves, sorts each half recursively, and then merges the sorted halves back together."
   ]
  },
  {
   "cell_type": "code",
   "execution_count": 1,
   "metadata": {},
   "outputs": [
    {
     "name": "stdout",
     "output_type": "stream",
     "text": [
      "[4, 12, 11, 3, 5, 16, 17, 7, 8, 13, 2, 15, 18, 10, 1, 19, 9, 14, 6]\n"
     ]
    }
   ],
   "source": [
    "import random\n",
    "arr = [i for i in range(1, 20)]\n",
    "random.shuffle(arr)\n",
    "print(arr)"
   ]
  },
  {
   "cell_type": "code",
   "execution_count": 2,
   "metadata": {},
   "outputs": [],
   "source": [
    "def merge_sort(arr):\n",
    "    if len(arr) > 1:\n",
    "        mid = len(arr) // 2  # Find the middle point\n",
    "        left_half = arr[:mid]\n",
    "        right_half = arr[mid:]\n",
    "\n",
    "        merge_sort(left_half)  # Sort the left half\n",
    "        merge_sort(right_half)  # Sort the right half\n",
    "\n",
    "        i = j = k = 0\n",
    "\n",
    "        # Merge the sorted halves\n",
    "        while i < len(left_half) and j < len(right_half):\n",
    "            if left_half[i] < right_half[j]:\n",
    "                arr[k] = left_half[i]\n",
    "                i += 1\n",
    "            else:\n",
    "                arr[k] = right_half[j]\n",
    "                j += 1\n",
    "            k += 1\n",
    "\n",
    "        # Check for remaining elements\n",
    "        while i < len(left_half):\n",
    "            arr[k] = left_half[i]\n",
    "            i += 1\n",
    "            k += 1\n",
    "        while j < len(right_half):\n",
    "            arr[k] = right_half[j]\n",
    "            j += 1\n",
    "            k += 1\n",
    "    return arr"
   ]
  },
  {
   "cell_type": "code",
   "execution_count": 3,
   "metadata": {},
   "outputs": [
    {
     "data": {
      "text/plain": [
       "[1, 2, 3, 4, 5, 6, 7, 8, 9, 10, 11, 12, 13, 14, 15, 16, 17, 18, 19]"
      ]
     },
     "execution_count": 3,
     "metadata": {},
     "output_type": "execute_result"
    }
   ],
   "source": [
    "merge_sort(arr)"
   ]
  },
  {
   "cell_type": "markdown",
   "metadata": {},
   "source": [
    "**Time Complexity**:\n",
    "- Best, Average, and Worst Case: O(n log n)"
   ]
  },
  {
   "cell_type": "markdown",
   "metadata": {},
   "source": [
    "**Applications of Merge Sort**\n",
    "\n",
    "1. **Large Datasets**: Efficient for sorting large datasets due to its O(n log n) time complexity, making it faster than many simple algorithms.\n",
    "\n",
    "2. **External Sorting**: Ideal for sorting data that does not fit into memory (e.g., large files) because it can efficiently handle disk I/O.\n",
    "\n",
    "3. **Stable Sorting**: Maintains the relative order of equal elements, making it suitable for scenarios where stability is important.\n",
    "\n",
    "4. **Linked Lists**: Particularly effective for sorting linked lists, as it doesn’t require random access to elements.\n",
    "\n",
    "5. **Parallel Processing**: Well-suited for parallel computing environments, where the divide-and-conquer approach can be executed concurrently.\n",
    "\n",
    "Merge Sort is a versatile and efficient sorting algorithm, particularly useful for large or external datasets, and in scenarios where stability is essential."
   ]
  }
 ],
 "metadata": {
  "kernelspec": {
   "display_name": "Python 3",
   "language": "python",
   "name": "python3"
  },
  "language_info": {
   "codemirror_mode": {
    "name": "ipython",
    "version": 3
   },
   "file_extension": ".py",
   "mimetype": "text/x-python",
   "name": "python",
   "nbconvert_exporter": "python",
   "pygments_lexer": "ipython3",
   "version": "3.8.10"
  }
 },
 "nbformat": 4,
 "nbformat_minor": 2
}
