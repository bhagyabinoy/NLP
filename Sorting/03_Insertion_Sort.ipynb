{
 "cells": [
  {
   "cell_type": "markdown",
   "metadata": {},
   "source": [
    "## Insertion Sort"
   ]
  },
  {
   "cell_type": "markdown",
   "metadata": {},
   "source": [
    "**How It Works**: \n",
    "- Insertion Sort builds a sorted array one element at a time. It takes an element from the unsorted part and inserts it into the correct position in the sorted part."
   ]
  },
  {
   "cell_type": "code",
   "execution_count": 1,
   "metadata": {},
   "outputs": [
    {
     "name": "stdout",
     "output_type": "stream",
     "text": [
      "[5, 7, 16, 3, 10, 18, 12, 14, 8, 15, 17, 11, 6, 1, 19, 13, 4, 2, 9]\n"
     ]
    }
   ],
   "source": [
    "import random\n",
    "arr = [i for i in range(1, 20)]\n",
    "random.shuffle(arr)\n",
    "print(arr)"
   ]
  },
  {
   "cell_type": "code",
   "execution_count": 2,
   "metadata": {
    "collapsed": true
   },
   "outputs": [],
   "source": [
    "def insertion_sort(arr):\n",
    "    n = len(arr)\n",
    "    for i in range(1, n):\n",
    "        key = arr[i]\n",
    "        j = i - 1\n",
    "        while j >= 0 and key < arr[j]:\n",
    "            arr[j + 1] = arr[j]\n",
    "            j -= 1\n",
    "        arr[j + 1] = key\n",
    "    return arr"
   ]
  },
  {
   "cell_type": "markdown",
   "metadata": {},
   "source": [
    "**Time Complexity**:\n",
    "\n",
    "- Best Case: O(n)\n",
    "- Average and Worst Case: O(n²)"
   ]
  },
  {
   "cell_type": "markdown",
   "metadata": {},
   "source": [
    "**Applications  of Insertion Sort**\n",
    "\n",
    "1. **Educational Purposes**: Commonly used to teach sorting concepts and algorithm analysis due to its intuitive approach.\n",
    "\n",
    "2. **Small Datasets**: Efficient for small or nearly sorted arrays, where it can outperform more complex algorithms.\n",
    "\n",
    "3. **Online Sorting**: Suitable for scenarios where data is received in a stream, allowing incremental sorting.\n",
    "\n",
    "4. **Stable Sorting**: Maintains the relative order of equal elements, making it useful when stability is required.\n",
    "\n",
    "5. **Adaptive Performance**: Performs well on partially sorted data, with a best-case time complexity of O(n).\n",
    "\n",
    "Insertion Sort is best for small, simple tasks, educational contexts, and situations where data is almost sorted."
   ]
  }
 ],
 "metadata": {
  "kernelspec": {
   "display_name": "Python 3",
   "language": "python",
   "name": "python3"
  },
  "language_info": {
   "codemirror_mode": {
    "name": "ipython",
    "version": 3
   },
   "file_extension": ".py",
   "mimetype": "text/x-python",
   "name": "python",
   "nbconvert_exporter": "python",
   "pygments_lexer": "ipython3",
   "version": "3.8.10"
  }
 },
 "nbformat": 4,
 "nbformat_minor": 2
}
