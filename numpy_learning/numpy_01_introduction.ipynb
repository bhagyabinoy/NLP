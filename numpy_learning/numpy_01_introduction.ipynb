{
  "cells": [
    {
      "cell_type": "markdown",
      "metadata": {
        "id": "sdfJWAw-HOez"
      },
      "source": [
        "# NumPy "
      ]
    },
    {
      "cell_type": "markdown",
      "metadata": {},
      "source": [
        "### NumPy Overview\n",
        "\n",
        "- general-purpose array-processing Python library.\n",
        "- Supports the creation and manipulation of n-dimensional arrays.\n",
        "- Abbreviation for \"Numerical Python.\"\n",
        "- Developed by Travis Olliphant in 2005.\n",
        "- Created to overcome the constraints of traditional Python lists for numerical computing.\n",
        "- Essential for data manipulation, machine learning, and scientific research."
      ]
    },
    {
      "cell_type": "markdown",
      "metadata": {},
      "source": [
        "### Features of NumPy\n",
        "\n",
        "- NumPy provides a powerful N-dimensional array object for efficient handling of multi-dimensional data.\n",
        "- It includes broadcasting capabilities, allowing operations on arrays of different shapes without explicit replication.\n",
        "- NumPy offers tools for integrating C/C++ and Fortran code, enhancing performance and flexibility.\n",
        "- The library includes a wide range of mathematical functions, including linear algebra, Fourier transforms, and random number generation."
      ]
    },
    {
      "cell_type": "markdown",
      "metadata": {},
      "source": [
        "### Installation\n",
        "```bash\n",
        "pip install numpy\n",
        "```"
      ]
    },
    {
      "cell_type": "markdown",
      "metadata": {},
      "source": [
        "### Comparison Between NumPy Arrays and Python Lists\n",
        "\n",
        "- **Data Type Uniformity**: NumPy arrays require all elements to be of the same type, enhancing performance, while Python lists can hold mixed types, which can reduce efficiency.\n",
        "\n",
        "- **Performance**: NumPy arrays are significantly faster for numerical operations due to optimized memory usage, whereas Python lists are slower due to more overhead.\n",
        "\n",
        "- **Functionality**: NumPy offers extensive mathematical functions and supports operations like broadcasting, while Python lists have limited functionality for complex computations.\n",
        "\n",
        "- **Memory Efficiency**: NumPy arrays are more memory efficient, especially for large datasets, because they use fixed data types, while lists incur additional overhead.\n",
        "\n",
        "- **Multidimensional Support**: NumPy natively supports multi-dimensional arrays, making complex manipulations easier, while Python lists can be nested but lack performance.\n",
        "\n",
        "- **Ease of Use**: NumPy requires familiarity with its syntax and functions for scientific tasks, while Python lists are simpler for basic programming needs.\n"
      ]
    },
    {
      "cell_type": "markdown",
      "metadata": {},
      "source": [
        "### NumPy Array Creation\n",
        "\n",
        "- **Using Built-in Functions**:\n",
        "  - Zeros: `np.zeros((2, 3))` → Creates a 2x3 array of zeros.\n",
        "  - Ones: `np.ones((2, 3))` → Creates a 2x3 array of ones.\n",
        "  - Empty: `np.empty((2, 3))` → Creates a 2x3 array with uninitialized data.\n",
        "  - Range: `np.arange(10)` → Creates an array with values from 0 to 9.\n",
        "  - Linspace: `np.linspace(0, 1, 5)` → Creates 5 equally spaced values between 0 and 1.\n",
        "  \n",
        "- **From Lists and Tuples**:\n",
        "  - List: `np.array([1, 2, 3])` → Creates a NumPy array from a Python list.\n",
        "  - Tuple: `np.array((4, 5, 6))` → Creates a NumPy array from a Python tuple.\n",
        "\n",
        "- **Arange Method**:\n",
        "  - `np.arange(start, stop, step)` → Creates an array with evenly spaced values within a specified range.\n",
        "  \n",
        "- **Identity Matrix**:\n",
        "  - `np.eye(n)` → Creates an n x n identity matrix.\n",
        "\n",
        "- **Full Array**:\n",
        "  - `np.full(shape, fill_value)` → Creates an array filled with a specified value.\n",
        "\n",
        "- **Meshgrid Function**:\n",
        "  - `np.meshgrid(x, y)` → Generates coordinate matrices from coordinate vectors."
      ]
    },
    {
      "cell_type": "code",
      "execution_count": 3,
      "metadata": {},
      "outputs": [
        {
          "name": "stdout",
          "output_type": "stream",
          "text": [
            "[1 2 3]\n",
            "[4 5 6]\n"
          ]
        }
      ],
      "source": [
        "### From a List or tuple\n",
        "\n",
        "import numpy as np\n",
        "arr_from_list = np.array([1, 2, 3])\n",
        "arr_from_tuple = np.array((4, 5, 6))\n",
        "print(arr_from_list)\n",
        "print(arr_from_tuple)"
      ]
    },
    {
      "cell_type": "code",
      "execution_count": 11,
      "metadata": {},
      "outputs": [
        {
          "name": "stdout",
          "output_type": "stream",
          "text": [
            "[0 1 2 3 4 5 6 7 8 9]\n",
            "[ 0  5 10 15]\n"
          ]
        }
      ],
      "source": [
        "### The arange Method\n",
        "\n",
        "range_array = np.arange(10)\n",
        "print(range_array)\n",
        "array = np.arange(0, 20, 5)  #Example with start, stop, and step\n",
        "print(array)"
      ]
    },
    {
      "cell_type": "code",
      "execution_count": 13,
      "metadata": {},
      "outputs": [
        {
          "name": "stdout",
          "output_type": "stream",
          "text": [
            "Zeros Array:\n",
            " [[0. 0. 0.]\n",
            " [0. 0. 0.]]\n"
          ]
        }
      ],
      "source": [
        "# Zeros\n",
        "zeros_array = np.zeros((2, 3))\n",
        "print(\"Zeros Array:\\n\", zeros_array)"
      ]
    },
    {
      "cell_type": "code",
      "execution_count": 14,
      "metadata": {},
      "outputs": [
        {
          "name": "stdout",
          "output_type": "stream",
          "text": [
            "\n",
            "Ones Array:\n",
            " [[1. 1. 1.]\n",
            " [1. 1. 1.]]\n"
          ]
        }
      ],
      "source": [
        "# Ones\n",
        "ones_array = np.ones((2, 3))\n",
        "print(\"\\nOnes Array:\\n\", ones_array)"
      ]
    },
    {
      "cell_type": "code",
      "execution_count": 18,
      "metadata": {},
      "outputs": [
        {
          "name": "stdout",
          "output_type": "stream",
          "text": [
            "\n",
            "Empty Array:\n",
            " [[0.25 0.5 ]\n",
            " [0.75 1.  ]]\n"
          ]
        }
      ],
      "source": [
        "# Empty\n",
        "empty_array = np.empty((2, 2))\n",
        "print(\"\\nEmpty Array:\\n\", empty_array)"
      ]
    },
    {
      "cell_type": "markdown",
      "metadata": {},
      "source": [
        "The np.empty() function in NumPy is used to create an array without initializing its values. This means that the array is allocated in memory, but the contents are not set to any specific value, leading to potentially unpredictable values depending on the state of the memory at that time.\n",
        "\n"
      ]
    },
    {
      "cell_type": "code",
      "execution_count": 21,
      "metadata": {},
      "outputs": [
        {
          "name": "stdout",
          "output_type": "stream",
          "text": [
            "\n",
            "Linspace Array (5 values between 0 and 1):\n",
            " [0.   0.25 0.5  0.75 1.  ]\n"
          ]
        }
      ],
      "source": [
        "# Linspace\n",
        "linspace_array = np.linspace(0, 1, 5)\n",
        "print(\"\\nLinspace Array (5 values between 0 and 1):\\n\", linspace_array)"
      ]
    },
    {
      "cell_type": "markdown",
      "metadata": {},
      "source": [
        "np.linspace(): Generates a specified number of evenly spaced values over a defined interval. It is particularly useful for creating arrays with a fixed number of points between two endpoints.\n",
        "\n",
        "np.arange(): Generates values within a specified range with a defined step size. It's useful for creating sequences where you specify the increment between values."
      ]
    },
    {
      "cell_type": "code",
      "execution_count": 22,
      "metadata": {},
      "outputs": [
        {
          "name": "stdout",
          "output_type": "stream",
          "text": [
            "\n",
            "Identity Matrix (3x3):\n",
            " [[1. 0. 0.]\n",
            " [0. 1. 0.]\n",
            " [0. 0. 1.]]\n"
          ]
        }
      ],
      "source": [
        "# Identity Matrix\n",
        "identity_matrix = np.eye(3)  # 3x3 identity matrix\n",
        "print(\"\\nIdentity Matrix (3x3):\\n\", identity_matrix)"
      ]
    },
    {
      "cell_type": "code",
      "execution_count": 26,
      "metadata": {},
      "outputs": [
        {
          "name": "stdout",
          "output_type": "stream",
          "text": [
            "[[7 7 7]\n",
            " [7 7 7]]\n"
          ]
        }
      ],
      "source": [
        "# Full Array\n",
        "full_array = np.full((2, 3), 7)  # 2x3 array filled with 7\n",
        "print(full_array)"
      ]
    },
    {
      "cell_type": "markdown",
      "metadata": {},
      "source": [
        "### Meshgrid Function\n",
        "\n",
        "The `np.meshgrid()` function in NumPy is used to create coordinate matrices (grids) from two or more coordinate vectors. This is particularly useful in scenarios where you want to evaluate functions over a grid of values, such as in 3D plotting or surface generation.\n",
        "\n",
        "### How It Works\n",
        "\n",
        "- **Input Vectors**: `np.meshgrid()` takes one or more 1D arrays (coordinate vectors) as input.\n",
        "- **Output Grids**: It returns arrays that represent the coordinates of a grid. Each output array corresponds to one of the input coordinate vectors, and the shape of the output arrays matches the grid formed by the input vectors.\n"
      ]
    },
    {
      "cell_type": "code",
      "execution_count": 27,
      "metadata": {},
      "outputs": [
        {
          "name": "stdout",
          "output_type": "stream",
          "text": [
            "\n",
            "Meshgrid X:\n",
            " [[1 2 3]\n",
            " [1 2 3]]\n",
            "\n",
            "Meshgrid Y:\n",
            " [[1 1 1]\n",
            " [2 2 2]]\n"
          ]
        }
      ],
      "source": [
        "# Meshgrid Function\n",
        "x = np.array([1, 2, 3])\n",
        "y = np.array([1, 2])\n",
        "X, Y = np.meshgrid(x, y)\n",
        "print(\"\\nMeshgrid X:\\n\", X)\n",
        "print(\"\\nMeshgrid Y:\\n\", Y)"
      ]
    },
    {
      "cell_type": "markdown",
      "metadata": {},
      "source": [
        "### Array Properties in NumPy\n",
        "\n",
        "NumPy arrays come with several properties that provide useful information about the array. Here are some key properties:\n",
        "\n",
        "- **Shape**: \n",
        "  - `arr.shape` → Returns the dimensions of the array as a tuple. For example, a 2x3 array would return `(2, 3)`.\n",
        "\n",
        "- **Size**: \n",
        "  - `arr.size` → Returns the total number of elements in the array. For a 2x3 array, this would return `6`.\n",
        "\n",
        "- **Data Type**: \n",
        "  - `arr.dtype` → Returns the data type of the elements in the array. Common types include `int32`, `float64`, and `object`.\n",
        "\n",
        "- **Number of Dimensions**: \n",
        "  - `arr.ndim` → Returns the number of dimensions (axes) of the array. For example, a 2D array would return `2`.\n",
        "\n",
        "- **Item Size**: \n",
        "  - `arr.itemsize` → Returns the size (in bytes) of each element in the array. This is useful for understanding memory usage. For instance, an array of `float64` type would have an item size of `8` bytes.\n",
        "\n",
        "- **Data Buffer**: \n",
        "  - `arr.data` → Returns the buffer containing the actual elements of the array. This is a low-level property that is rarely used directly by most users.\n",
        "\n",
        "- **Base**: \n",
        "  - `arr.base` → If the array is a view (not a copy) of another array, this property returns the base array. If it is a standalone array, it returns `None`.\n",
        "\n",
        "- **Strides**: \n",
        "  - `arr.strides` → Returns a tuple indicating the number of bytes that need to be skipped in memory to move to the next position along each dimension. This is useful for understanding how the array is stored in memory.\n",
        "\n",
        "- **Flags**: \n",
        "  - `arr.flags` → Returns information about the memory layout and properties of the array, such as whether the array is contiguous in memory, whether it is writable, and other attributes.\n"
      ]
    },
    {
      "cell_type": "code",
      "execution_count": 28,
      "metadata": {},
      "outputs": [
        {
          "name": "stdout",
          "output_type": "stream",
          "text": [
            "Array:\n",
            " [[1 2 3]\n",
            " [4 5 6]]\n"
          ]
        }
      ],
      "source": [
        "arr = np.array([[1, 2, 3], [4, 5, 6]])\n",
        "print(\"Array:\\n\", arr)"
      ]
    },
    {
      "cell_type": "code",
      "execution_count": 29,
      "metadata": {},
      "outputs": [
        {
          "name": "stdout",
          "output_type": "stream",
          "text": [
            "\n",
            "Shape of the array: (2, 3)\n"
          ]
        }
      ],
      "source": [
        "# Shape\n",
        "print(\"\\nShape of the array:\", arr.shape)"
      ]
    },
    {
      "cell_type": "code",
      "execution_count": 30,
      "metadata": {},
      "outputs": [
        {
          "name": "stdout",
          "output_type": "stream",
          "text": [
            "Total number of elements: 6\n"
          ]
        }
      ],
      "source": [
        "# Size\n",
        "print(\"Total number of elements:\", arr.size) "
      ]
    },
    {
      "cell_type": "markdown",
      "metadata": {},
      "source": [
        "- In NumPy, dtype (short for \"data type\") is a fundamental concept that defines the type of elements in a NumPy array. \n",
        "- It specifies how the data is stored in memory and what kind of operations can be performed on it. Understanding dtype is essential for effective memory management and performance optimization in numerical computations.\n",
        "- If you don't specify a dtype, NumPy will infer the data type from the input data. For example, if you create an array of integers, it will default to an integer type.\n",
        "- You can change the dtype of an existing array using the astype() method\n",
        "\n",
        "Types of Data:\n",
        "\n",
        "1. Integers: np.int8, np.int16, np.int32, np.int64 (different sizes of integers).\n",
        "2. Unsigned Integers: np.uint8, np.uint16, np.uint32, np.uint64.\n",
        "3. Floating Point Numbers: np.float16, np.float32, np.float64 (different sizes of floating-point numbers).\n",
        "4. Complex Numbers: np.complex64, np.complex128.\n",
        "5. Booleans: np.bool_ (representing True/False).\n",
        "6. Strings: np.str_ or np.bytes_ (for text data).\n",
        "7. Objects: np.object_ (for generic Python objects).\n",
        "\n"
      ]
    },
    {
      "cell_type": "code",
      "execution_count": 39,
      "metadata": {},
      "outputs": [
        {
          "name": "stdout",
          "output_type": "stream",
          "text": [
            "float32\n",
            "[1. 2. 3.]\n"
          ]
        }
      ],
      "source": [
        "### Setting the dtype:\n",
        "\n",
        "arr = np.array([1, 2, 3], dtype=np.float32)\n",
        "print(arr.dtype) \n",
        "print(arr)"
      ]
    },
    {
      "cell_type": "code",
      "execution_count": 31,
      "metadata": {},
      "outputs": [
        {
          "name": "stdout",
          "output_type": "stream",
          "text": [
            "Data type of array elements: int64\n"
          ]
        }
      ],
      "source": [
        "# Data Type\n",
        "print(\"Data type of array elements:\", arr.dtype) "
      ]
    },
    {
      "cell_type": "code",
      "execution_count": 32,
      "metadata": {},
      "outputs": [
        {
          "name": "stdout",
          "output_type": "stream",
          "text": [
            "Number of dimensions: 2\n"
          ]
        }
      ],
      "source": [
        "# Number of Dimensions\n",
        "print(\"Number of dimensions:\", arr.ndim)"
      ]
    },
    {
      "cell_type": "code",
      "execution_count": 33,
      "metadata": {},
      "outputs": [
        {
          "name": "stdout",
          "output_type": "stream",
          "text": [
            "Size of each element in bytes: 8\n"
          ]
        }
      ],
      "source": [
        "# Item Size\n",
        "print(\"Size of each element in bytes:\", arr.itemsize)"
      ]
    },
    {
      "cell_type": "code",
      "execution_count": 34,
      "metadata": {},
      "outputs": [
        {
          "name": "stdout",
          "output_type": "stream",
          "text": [
            "Data buffer: <memory at 0x7f15d00d0ee0>\n"
          ]
        }
      ],
      "source": [
        "# Data Buffer\n",
        "print(\"Data buffer:\", arr.data) "
      ]
    },
    {
      "cell_type": "code",
      "execution_count": 35,
      "metadata": {},
      "outputs": [
        {
          "name": "stdout",
          "output_type": "stream",
          "text": [
            "Base array: None\n"
          ]
        }
      ],
      "source": [
        "# Base Array\n",
        "print(\"Base array:\", arr.base) "
      ]
    },
    {
      "cell_type": "code",
      "execution_count": 36,
      "metadata": {},
      "outputs": [
        {
          "name": "stdout",
          "output_type": "stream",
          "text": [
            "Strides: (24, 8)\n"
          ]
        }
      ],
      "source": [
        "# Strides\n",
        "print(\"Strides:\", arr.strides) "
      ]
    },
    {
      "cell_type": "code",
      "execution_count": 37,
      "metadata": {},
      "outputs": [
        {
          "name": "stdout",
          "output_type": "stream",
          "text": [
            "Array flags:\n",
            "   C_CONTIGUOUS : True\n",
            "  F_CONTIGUOUS : False\n",
            "  OWNDATA : True\n",
            "  WRITEABLE : True\n",
            "  ALIGNED : True\n",
            "  WRITEBACKIFCOPY : False\n",
            "  UPDATEIFCOPY : False\n",
            "\n"
          ]
        }
      ],
      "source": [
        "# Flags\n",
        "print(\"Array flags:\\n\", arr.flags)"
      ]
    },
    {
      "cell_type": "markdown",
      "metadata": {},
      "source": [
        "Structured Data Types:\n",
        "\n",
        "NumPy also supports structured arrays, which allow you to create arrays with complex data types. This means you can have arrays that contain different types of data in each element, similar to records in a database."
      ]
    },
    {
      "cell_type": "code",
      "execution_count": 42,
      "metadata": {},
      "outputs": [
        {
          "name": "stdout",
          "output_type": "stream",
          "text": [
            "[('abcd', 25) ('qwer', 30)]\n"
          ]
        }
      ],
      "source": [
        "dtype = np.dtype([('name', 'U10'), ('age', 'i4')])\n",
        "structured_array = np.array([('abcd', 25), ('qwer', 30)], dtype=dtype)\n",
        "print(structured_array)"
      ]
    },
    {
      "cell_type": "markdown",
      "metadata": {},
      "source": [
        "## Array Indexing and slicing Operations\n",
        "- Indexing: access specific elements of an array\n",
        "1. *Basic Indexing*\n",
        "is straightforward. It follows zero-based indexing, so `arr[0]` accesses the first element.\n",
        "2. *Slicing*: allows you to access a subset of an array. It follows the `start:stop:step` syntax.\n",
        "3. *Boolean Indexing*: filters elements based on a condition.\n",
        "4. *Fancy Indexing*: allows selection of specific indices in an arbitrary order. You can use lists or arrays of indices.\n",
        "5. Ellipsis: useful for skipping unspecified dimensions. It’s particularly helpful for higher-dimensional arrays.\n"
      ]
    },
    {
      "cell_type": "code",
      "execution_count": 68,
      "metadata": {},
      "outputs": [
        {
          "name": "stdout",
          "output_type": "stream",
          "text": [
            "30\n",
            "40\n"
          ]
        }
      ],
      "source": [
        "### Basic Indexing: 1D Array:\n",
        "\n",
        "arr = np.array([10, 20, 30, 40])\n",
        "print(arr[2])\n",
        "print(arr[-1])    "
      ]
    },
    {
      "cell_type": "code",
      "execution_count": 71,
      "metadata": {},
      "outputs": [
        {
          "name": "stdout",
          "output_type": "stream",
          "text": [
            "6\n",
            "[1 2 3]\n",
            "[4 5 6]\n",
            "[7 8 9]\n",
            "8\n"
          ]
        }
      ],
      "source": [
        "### Basic Indexing: 2D Array:\n",
        "arr = np.array([[1, 2, 3], [4, 5, 6], [7, 8, 9]])\n",
        "print(arr[1, 2])\n",
        "print(arr[0])  \n",
        "print(arr[1])  \n",
        "print(arr[2])  \n",
        "print(arr[2,1])"
      ]
    },
    {
      "cell_type": "code",
      "execution_count": 78,
      "metadata": {},
      "outputs": [
        {
          "name": "stdout",
          "output_type": "stream",
          "text": [
            "[20 30 40]\n",
            "[10 20 30]\n",
            "[10 20]\n",
            "[40 50]\n",
            "[30 40 50]\n",
            "30\n",
            "[10 30 50]\n",
            "[10 40]\n",
            "[10]\n"
          ]
        }
      ],
      "source": [
        "### Slicing: 1D Array:\n",
        "arr = np.array([10, 20, 30, 40, 50])\n",
        "print(arr[1:4])\n",
        "print(arr[:3])   \n",
        "print(arr[:-3])    \n",
        "print(arr[-2:])  \n",
        "print(arr[-3:])    \n",
        "print(arr[-3])    \n",
        "print(arr[::2]) \n",
        "print(arr[::3]) \n",
        "print(arr[::5])"
      ]
    },
    {
      "cell_type": "code",
      "execution_count": 79,
      "metadata": {},
      "outputs": [
        {
          "name": "stdout",
          "output_type": "stream",
          "text": [
            "[40 50]\n"
          ]
        }
      ],
      "source": [
        "print(arr[-2:])  "
      ]
    },
    {
      "cell_type": "code",
      "execution_count": 83,
      "metadata": {},
      "outputs": [
        {
          "name": "stdout",
          "output_type": "stream",
          "text": [
            "[[1 2 3]\n",
            " [4 5 6]\n",
            " [7 8 9]]\n"
          ]
        }
      ],
      "source": [
        "### Slicing: 2D Array:*\n",
        "arr = np.array([[1, 2, 3], [4, 5, 6], [7, 8, 9]])\n",
        "print(arr) "
      ]
    },
    {
      "cell_type": "code",
      "execution_count": 84,
      "metadata": {},
      "outputs": [
        {
          "name": "stdout",
          "output_type": "stream",
          "text": [
            "[[4 5 6]\n",
            " [7 8 9]]\n"
          ]
        }
      ],
      "source": [
        "print(arr[1:3])  #  (rows 1 and 2)"
      ]
    },
    {
      "cell_type": "code",
      "execution_count": 86,
      "metadata": {},
      "outputs": [
        {
          "name": "stdout",
          "output_type": "stream",
          "text": [
            "[3 6 9]\n"
          ]
        }
      ],
      "source": [
        "print(arr[:, 2])"
      ]
    },
    {
      "cell_type": "code",
      "execution_count": 62,
      "metadata": {},
      "outputs": [
        {
          "data": {
            "text/plain": [
              "array([1])"
            ]
          },
          "execution_count": 62,
          "metadata": {},
          "output_type": "execute_result"
        }
      ],
      "source": [
        "print(arr[0:2, 1:])  # (first two rows, last two columns)"
      ]
    },
    {
      "cell_type": "code",
      "execution_count": 90,
      "metadata": {},
      "outputs": [
        {
          "name": "stdout",
          "output_type": "stream",
          "text": [
            "[[1]\n",
            " [4]\n",
            " [7]]\n"
          ]
        }
      ],
      "source": [
        "print(arr[:, ::3])  "
      ]
    },
    {
      "cell_type": "code",
      "execution_count": 91,
      "metadata": {},
      "outputs": [
        {
          "name": "stdout",
          "output_type": "stream",
          "text": [
            "[[5 6]\n",
            " [8 9]]\n"
          ]
        }
      ],
      "source": [
        "print(arr[-2:, -2:]) "
      ]
    },
    {
      "cell_type": "code",
      "execution_count": 92,
      "metadata": {},
      "outputs": [
        {
          "name": "stdout",
          "output_type": "stream",
          "text": [
            "[[3 2 1]\n",
            " [6 5 4]\n",
            " [9 8 7]]\n"
          ]
        }
      ],
      "source": [
        "#  Reverse the order of columns\n",
        "print(arr[:, ::-1])"
      ]
    },
    {
      "cell_type": "code",
      "execution_count": 94,
      "metadata": {},
      "outputs": [
        {
          "data": {
            "text/plain": [
              "array([1, 2])"
            ]
          },
          "execution_count": 94,
          "metadata": {},
          "output_type": "execute_result"
        }
      ],
      "source": [
        "### Boolean Indexing 1D Array:\n",
        "\n",
        "arr = np.array([1, 2, 3, 4, 5])\n",
        "arr[arr < 3] "
      ]
    },
    {
      "cell_type": "code",
      "execution_count": 95,
      "metadata": {},
      "outputs": [
        {
          "data": {
            "text/plain": [
              "array([2, 4, 6])"
            ]
          },
          "execution_count": 95,
          "metadata": {},
          "output_type": "execute_result"
        }
      ],
      "source": [
        "### Boolean Indexing 2D Array:\n",
        "\n",
        "arr = np.array([[1, 2], [3, 4], [5, 6]])\n",
        "arr[arr % 2 == 0]  "
      ]
    },
    {
      "cell_type": "code",
      "execution_count": 97,
      "metadata": {},
      "outputs": [
        {
          "data": {
            "text/plain": [
              "array([4, 5, 6])"
            ]
          },
          "execution_count": 97,
          "metadata": {},
          "output_type": "execute_result"
        }
      ],
      "source": [
        "arr[arr > 3] "
      ]
    }
  ],
  "metadata": {
    "colab": {
      "provenance": []
    },
    "kernelspec": {
      "display_name": "Python 3",
      "name": "python3"
    },
    "language_info": {
      "codemirror_mode": {
        "name": "ipython",
        "version": 3
      },
      "file_extension": ".py",
      "mimetype": "text/x-python",
      "name": "python",
      "nbconvert_exporter": "python",
      "pygments_lexer": "ipython3",
      "version": "3.8.10"
    }
  },
  "nbformat": 4,
  "nbformat_minor": 0
}
